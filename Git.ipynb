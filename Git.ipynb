{
 "cells": [
  {
   "cell_type": "markdown",
   "metadata": {},
   "source": [
    "### 1.通过git init命令把这个目录变成Git可以管理的仓库\n",
    "`git init`\n",
    "\n",
    ">Initialized empty Git repository in /Users/fd/git/git/.git/\n",
    "\n",
    "目录下多出.git，\n",
    "### 2. 把文件添加到版本库\n",
    "`touch README`\n",
    "\n",
    "`git add README`\n",
    "### 3. 用命令git commit告诉Git，把文件提交到仓库：\n",
    "`git commit -m \"Wrote a README file\"`\n",
    "\n",
    "仓库当前的状态: `git status`\n",
    "\n",
    "具体修改内容: `git diff`\n",
    "\n",
    "历史记录: `git log` 或者 `git log --pretty=oneline`\n",
    "\n",
    "退回到上一个版本: `git reset --hard HEAD^`\n",
    "\n",
    "退回到前边第100个版本: `git reset --hard HEAD~100`\n",
    "\n",
    "删除文件: `git rm`\n",
    "\n",
    "### 3. 远程仓库\n",
    "`ssh-keygen -t rsa -C \"youremail@example.com\"`\n",
    "\n",
    "`git remote add origin git@github.com:agrh/git.git`\n",
    "\n",
    "把本地库的所有内容推送到远程库上: `git push -u origin master`"
   ]
  },
  {
   "cell_type": "code",
   "execution_count": null,
   "metadata": {},
   "outputs": [],
   "source": []
  }
 ],
 "metadata": {
  "kernelspec": {
   "display_name": "Python 3",
   "language": "python",
   "name": "python3"
  },
  "language_info": {
   "codemirror_mode": {
    "name": "ipython",
    "version": 3
   },
   "file_extension": ".py",
   "mimetype": "text/x-python",
   "name": "python",
   "nbconvert_exporter": "python",
   "pygments_lexer": "ipython3",
   "version": "3.7.0"
  }
 },
 "nbformat": 4,
 "nbformat_minor": 2
}
